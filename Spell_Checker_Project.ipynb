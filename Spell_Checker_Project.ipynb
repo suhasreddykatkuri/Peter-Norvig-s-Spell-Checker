{
  "nbformat": 4,
  "nbformat_minor": 0,
  "metadata": {
    "colab": {
      "provenance": [],
      "include_colab_link": true
    },
    "kernelspec": {
      "name": "python3",
      "display_name": "Python 3"
    },
    "language_info": {
      "name": "python"
    }
  },
  "cells": [
    {
      "cell_type": "markdown",
      "metadata": {
        "id": "view-in-github",
        "colab_type": "text"
      },
      "source": [
        "<a href=\"https://colab.research.google.com/github/SuhasKatkuri/AI-ML/blob/main/Spell_Checker_Project.ipynb\" target=\"_parent\"><img src=\"https://colab.research.google.com/assets/colab-badge.svg\" alt=\"Open In Colab\"/></a>"
      ]
    },
    {
      "cell_type": "code",
      "source": [
        "import re\n",
        "import pandas as pd\n",
        "from tqdm import tqdm"
      ],
      "metadata": {
        "id": "WsHpqqqIsqwe"
      },
      "execution_count": null,
      "outputs": []
    },
    {
      "cell_type": "markdown",
      "source": [
        "**1. Finding the Unique Words**"
      ],
      "metadata": {
        "id": "hAQayTYxuA5-"
      }
    },
    {
      "cell_type": "markdown",
      "source": [],
      "metadata": {
        "id": "cxSC-SFTN8Tz"
      }
    },
    {
      "cell_type": "code",
      "execution_count": null,
      "metadata": {
        "colab": {
          "base_uri": "https://localhost:8080/"
        },
        "id": "O1w3IS3Spcv-",
        "outputId": "50f2d4e4-3797-4726-ba58-0c1f98b72e6d"
      },
      "outputs": [
        {
          "output_type": "stream",
          "name": "stdout",
          "text": [
            "1115585\n",
            "32198\n"
          ]
        }
      ],
      "source": [
        "with open('/content/big.txt','r') as fd:\n",
        "\n",
        "  lines=fd.readlines()\n",
        "  words = []\n",
        "  for line in lines:\n",
        "    words += re.findall('\\w+',line.lower())\n",
        "\n",
        "print(len(words))\n",
        "\n",
        "vocab = list(set(words))\n",
        "\n",
        "print(len(vocab))"
      ]
    },
    {
      "cell_type": "markdown",
      "source": [
        "**2. Finding the Probability Distribution**"
      ],
      "metadata": {
        "id": "63Lmv6DluSBm"
      }
    },
    {
      "cell_type": "code",
      "source": [
        "word_probability = {}\n",
        "\n",
        "for word in tqdm(vocab):\n",
        "  word_probability[word] = float(words.count(word)/len(words))"
      ],
      "metadata": {
        "colab": {
          "base_uri": "https://localhost:8080/"
        },
        "id": "JUih2mGnsKZv",
        "outputId": "70475398-8271-4038-b1fd-c126cf0e905e"
      },
      "execution_count": null,
      "outputs": [
        {
          "output_type": "stream",
          "name": "stderr",
          "text": [
            "100%|██████████| 32198/32198 [13:59<00:00, 38.35it/s]\n"
          ]
        }
      ]
    },
    {
      "cell_type": "code",
      "source": [
        "len(word_probability)"
      ],
      "metadata": {
        "colab": {
          "base_uri": "https://localhost:8080/"
        },
        "id": "5gLxB13dxN9G",
        "outputId": "a05e33ab-6d90-4ad6-8791-b492496d0f10"
      },
      "execution_count": null,
      "outputs": [
        {
          "output_type": "execute_result",
          "data": {
            "text/plain": [
              "32198"
            ]
          },
          "metadata": {},
          "execution_count": 14
        }
      ]
    },
    {
      "cell_type": "markdown",
      "source": [
        "**3. Text Preprocessing**\n"
      ],
      "metadata": {
        "id": "pRa6TAvDy7lF"
      }
    },
    {
      "cell_type": "markdown",
      "source": [
        "Splitting"
      ],
      "metadata": {
        "id": "ZL6eSuAksxqC"
      }
    },
    {
      "cell_type": "code",
      "source": [
        "def split(word):\n",
        "  parts = []\n",
        "\n",
        "  for i in range(len(word)):\n",
        "    parts += [(word[:i] , word[i:])]\n",
        "  return parts\n",
        "\n",
        "split('suhas')\n"
      ],
      "metadata": {
        "colab": {
          "base_uri": "https://localhost:8080/"
        },
        "id": "P0f88TarsTRl",
        "outputId": "49300216-4f07-4658-9346-0f3803928e54"
      },
      "execution_count": null,
      "outputs": [
        {
          "output_type": "execute_result",
          "data": {
            "text/plain": [
              "[('', 'suhas'), ('s', 'uhas'), ('su', 'has'), ('suh', 'as'), ('suha', 's')]"
            ]
          },
          "metadata": {},
          "execution_count": 15
        }
      ]
    },
    {
      "cell_type": "markdown",
      "source": [
        "3.1. Delete\n",
        "\n",
        "'loave' -> 'love'"
      ],
      "metadata": {
        "id": "zk37QxWhz0Um"
      }
    },
    {
      "cell_type": "code",
      "source": [
        "def delete(word):\n",
        "\n",
        "  output = []\n",
        "\n",
        "  for l,r in split(word):\n",
        "    output.append(l + r[1:])\n",
        "  return output\n",
        "\n",
        "delete('heallo')"
      ],
      "metadata": {
        "colab": {
          "base_uri": "https://localhost:8080/"
        },
        "id": "sZ7AgUjryY6P",
        "outputId": "6b184e08-2b81-402c-970e-58aecc7ed0dd"
      },
      "execution_count": null,
      "outputs": [
        {
          "output_type": "execute_result",
          "data": {
            "text/plain": [
              "['eallo', 'hallo', 'hello', 'healo', 'healo', 'heall']"
            ]
          },
          "metadata": {},
          "execution_count": 16
        }
      ]
    },
    {
      "cell_type": "markdown",
      "source": [
        "3.2. Swap\n",
        "\n",
        "'lvoe' -> 'love'"
      ],
      "metadata": {
        "id": "JGADGw2ezUhe"
      }
    },
    {
      "cell_type": "code",
      "source": [
        "def swap(word):\n",
        "\n",
        "  output = []\n",
        "  for l,r in split(word):\n",
        "    if (len(r) > 1):\n",
        "\n",
        "      output.append(l + r[1] + r[0] +r[2:])\n",
        "  return output\n",
        "\n",
        "swap('lvoe')\n"
      ],
      "metadata": {
        "colab": {
          "base_uri": "https://localhost:8080/"
        },
        "id": "Xzyms1_Nz9nN",
        "outputId": "ba3d0c2f-ffa4-4f71-dbb5-8140867bb117"
      },
      "execution_count": null,
      "outputs": [
        {
          "output_type": "execute_result",
          "data": {
            "text/plain": [
              "['vloe', 'love', 'lveo']"
            ]
          },
          "metadata": {},
          "execution_count": 17
        }
      ]
    },
    {
      "cell_type": "markdown",
      "source": [
        "3.3. Replace\n",
        "\n",
        "'lave' -> 'love'"
      ],
      "metadata": {
        "id": "ECl5VtbQz-2l"
      }
    },
    {
      "cell_type": "code",
      "source": [
        "def replace(word):\n",
        "  characters='abcdefghijklmnopqrstuvwxyz'\n",
        "  output = []\n",
        "\n",
        "  for l,r in split(word):\n",
        "    for char in characters:\n",
        "      output.append(l + char + r[1:])\n",
        "  return output\n",
        "\n",
        "len(replace('thes'))"
      ],
      "metadata": {
        "colab": {
          "base_uri": "https://localhost:8080/"
        },
        "id": "XZ1OIqv10Egl",
        "outputId": "0d0eb395-8e7c-4e3a-9cbc-ec640f839215"
      },
      "execution_count": null,
      "outputs": [
        {
          "output_type": "execute_result",
          "data": {
            "text/plain": [
              "104"
            ]
          },
          "metadata": {},
          "execution_count": 25
        }
      ]
    },
    {
      "cell_type": "markdown",
      "source": [
        "3.4. Insert\n",
        "\n",
        "'lve' -> 'love'"
      ],
      "metadata": {
        "id": "Bg_I3bVq0E6F"
      }
    },
    {
      "cell_type": "code",
      "source": [
        "def insert(word):\n",
        "  characters='abcdefghijklmnopqrstuvwxyz'\n",
        "  output = []\n",
        "\n",
        "  for l,r in split(word):\n",
        "    for char in characters:\n",
        "      output.append(l + char + r)\n",
        "  return output\n",
        "\n",
        "\n",
        "len(insert('lve'))"
      ],
      "metadata": {
        "colab": {
          "base_uri": "https://localhost:8080/"
        },
        "id": "a5_nMhz-0J8F",
        "outputId": "30c5a353-2416-419c-c234-2a37d887f7a5"
      },
      "execution_count": null,
      "outputs": [
        {
          "output_type": "execute_result",
          "data": {
            "text/plain": [
              "78"
            ]
          },
          "metadata": {},
          "execution_count": 26
        }
      ]
    },
    {
      "cell_type": "markdown",
      "source": [
        "**4. Finding the Prediction**"
      ],
      "metadata": {
        "id": "T0gyRC2m1EvG"
      }
    },
    {
      "cell_type": "markdown",
      "source": [
        "4.1. Combining Possible Words"
      ],
      "metadata": {
        "id": "_K4D_1Us1Fiz"
      }
    },
    {
      "cell_type": "code",
      "source": [
        "def edit(word):\n",
        "\n",
        "  return list(set(swap(word) + delete(word) + replace(word) +insert(word)))\n",
        "\n",
        "len(edit('loave'))"
      ],
      "metadata": {
        "colab": {
          "base_uri": "https://localhost:8080/"
        },
        "id": "LRCxDBm41XSy",
        "outputId": "5a96a8db-c92b-4895-836e-cdc01c8f3be9"
      },
      "execution_count": null,
      "outputs": [
        {
          "output_type": "execute_result",
          "data": {
            "text/plain": [
              "261"
            ]
          },
          "metadata": {},
          "execution_count": 28
        }
      ]
    },
    {
      "cell_type": "markdown",
      "source": [
        "4.2. Predicting the Word"
      ],
      "metadata": {
        "id": "AtvKgv734WIL"
      }
    },
    {
      "cell_type": "code",
      "source": [
        "def spell_check(word, count = 5):\n",
        "  output = []\n",
        "\n",
        "  suggested_words = edit(word)\n",
        "  for wrd in suggested_words:\n",
        "    if wrd in word_probability.keys():\n",
        "      output.append([wrd,word_probability[wrd]])\n",
        "\n",
        "  return list(pd.DataFrame(output, columns = ['word','prob']).sort_values(by = 'prob',ascending = False).head(count).values)"
      ],
      "metadata": {
        "id": "1UKoUl7U2L5m"
      },
      "execution_count": null,
      "outputs": []
    },
    {
      "cell_type": "code",
      "source": [
        "spell_check('live', count=2)"
      ],
      "metadata": {
        "colab": {
          "base_uri": "https://localhost:8080/"
        },
        "id": "ccJk9FDe8zAj",
        "outputId": "1a967f51-f762-4b21-f777-67271a8e758b"
      },
      "execution_count": null,
      "outputs": [
        {
          "output_type": "execute_result",
          "data": {
            "text/plain": [
              "[array(['like', 0.0009681019375484611], dtype=object),\n",
              " array(['life', 0.0007780671127704298], dtype=object)]"
            ]
          },
          "metadata": {},
          "execution_count": 35
        }
      ]
    },
    {
      "cell_type": "markdown",
      "source": [
        "**5. Finding the prediction 2.0**"
      ],
      "metadata": {
        "id": "3TgCfOUe54eQ"
      }
    },
    {
      "cell_type": "markdown",
      "source": [
        "5.1. Combining Possible values"
      ],
      "metadata": {
        "id": "FOaI8J7j6CSt"
      }
    },
    {
      "cell_type": "code",
      "source": [
        "def spell_check_2(word, count=5):\n",
        "\n",
        "  output = []\n",
        "  suggested_words = edit(word) #Level one edit\n",
        "\n",
        "  for e1 in edit(word):\n",
        "    suggested_words += edit(e1) #Second level edit\n",
        "\n",
        "  suggested_words = list(set(suggested_words))\n",
        "\n",
        "  for wrd in suggested_words:\n",
        "    if wrd in word_probability.keys():\n",
        "      output.append([wrd, word_probability[wrd]])\n",
        "  return list(pd.DataFrame(output, columns = ['word','prob']).sort_values(by = 'prob',ascending = False).head(count).values)\n",
        "\n",
        "spell_check_2('loave')"
      ],
      "metadata": {
        "colab": {
          "base_uri": "https://localhost:8080/"
        },
        "id": "tgdaGX_Q6Iy7",
        "outputId": "e109bf2d-2eda-457d-8dfd-a16cee651d9d"
      },
      "execution_count": null,
      "outputs": [
        {
          "output_type": "execute_result",
          "data": {
            "text/plain": [
              "[array(['have', 0.0031310926554229397], dtype=object),\n",
              " array(['love', 0.000433853090530977], dtype=object),\n",
              " array(['gave', 0.0003962046818485369], dtype=object),\n",
              " array(['leave', 0.0002689172048745725], dtype=object),\n",
              " array(['late', 0.00014700807199809966], dtype=object)]"
            ]
          },
          "metadata": {},
          "execution_count": 36
        }
      ]
    },
    {
      "cell_type": "code",
      "source": [
        "print(spell_check('loave'),'\\n',spell_check_2('loave'))"
      ],
      "metadata": {
        "colab": {
          "base_uri": "https://localhost:8080/"
        },
        "id": "XREAjcLh97qb",
        "outputId": "bb1a9ce6-a9cd-469c-9cac-550f6f160460"
      },
      "execution_count": null,
      "outputs": [
        {
          "output_type": "stream",
          "name": "stdout",
          "text": [
            "[array(['love', 0.000433853090530977], dtype=object), array(['leave', 0.0002689172048745725], dtype=object)] \n",
            " [array(['have', 0.0031310926554229397], dtype=object), array(['love', 0.000433853090530977], dtype=object), array(['gave', 0.0003962046818485369], dtype=object), array(['leave', 0.0002689172048745725], dtype=object), array(['late', 0.00014700807199809966], dtype=object)]\n"
          ]
        }
      ]
    },
    {
      "cell_type": "code",
      "source": [
        "spell_check_2('reght')"
      ],
      "metadata": {
        "colab": {
          "base_uri": "https://localhost:8080/"
        },
        "id": "rTGPdRZ8GRFr",
        "outputId": "1a688759-c0c5-4f71-8286-72206120b364"
      },
      "execution_count": null,
      "outputs": [
        {
          "output_type": "execute_result",
          "data": {
            "text/plain": [
              "[array(['right', 0.0006364373848698217], dtype=object),\n",
              " array(['might', 0.0004804654060425696], dtype=object),\n",
              " array(['night', 0.00034421402223945287], dtype=object),\n",
              " array(['light', 0.000248300219167522], dtype=object),\n",
              " array(['rest', 0.0001846564806805398], dtype=object)]"
            ]
          },
          "metadata": {},
          "execution_count": 40
        }
      ]
    }
  ]
}